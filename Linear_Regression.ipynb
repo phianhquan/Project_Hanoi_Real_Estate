{
 "cells": [
  {
   "cell_type": "code",
   "execution_count": 1,
   "metadata": {},
   "outputs": [],
   "source": [
    "import pandas as pd"
   ]
  },
  {
   "cell_type": "code",
   "execution_count": 12,
   "metadata": {},
   "outputs": [],
   "source": [
    "df = pd.read_excel(\"hn_realestate_full.xlsx\")"
   ]
  },
  {
   "cell_type": "code",
   "execution_count": 13,
   "metadata": {},
   "outputs": [
    {
     "name": "stderr",
     "output_type": "stream",
     "text": [
      "<ipython-input-13-77cddd38ee35>:4: SettingWithCopyWarning: \n",
      "A value is trying to be set on a copy of a slice from a DataFrame\n",
      "\n",
      "See the caveats in the documentation: https://pandas.pydata.org/pandas-docs/stable/user_guide/indexing.html#returning-a-view-versus-a-copy\n",
      "  predict_df.dropna(axis=0,inplace=True)\n"
     ]
    },
    {
     "data": {
      "text/html": [
       "<div>\n",
       "<style scoped>\n",
       "    .dataframe tbody tr th:only-of-type {\n",
       "        vertical-align: middle;\n",
       "    }\n",
       "\n",
       "    .dataframe tbody tr th {\n",
       "        vertical-align: top;\n",
       "    }\n",
       "\n",
       "    .dataframe thead th {\n",
       "        text-align: right;\n",
       "    }\n",
       "</style>\n",
       "<table border=\"1\" class=\"dataframe\">\n",
       "  <thead>\n",
       "    <tr style=\"text-align: right;\">\n",
       "      <th></th>\n",
       "      <th>Road_width (m)</th>\n",
       "      <th>Area (m2)</th>\n",
       "      <th>Price (Millions vnd/m2)</th>\n",
       "      <th>District Population (Thousands)</th>\n",
       "      <th>District Density (people/km2)</th>\n",
       "      <th>Distance from center(km)</th>\n",
       "      <th>Distance from nearest road (km)</th>\n",
       "    </tr>\n",
       "  </thead>\n",
       "  <tbody>\n",
       "    <tr>\n",
       "      <th>0</th>\n",
       "      <td>5.0</td>\n",
       "      <td>32.0</td>\n",
       "      <td>562.500000</td>\n",
       "      <td>267.3</td>\n",
       "      <td>630.379926</td>\n",
       "      <td>51.485192</td>\n",
       "      <td>37.693041</td>\n",
       "    </tr>\n",
       "    <tr>\n",
       "      <th>1</th>\n",
       "      <td>5.0</td>\n",
       "      <td>727.0</td>\n",
       "      <td>3.163686</td>\n",
       "      <td>267.3</td>\n",
       "      <td>630.379926</td>\n",
       "      <td>52.081339</td>\n",
       "      <td>35.269920</td>\n",
       "    </tr>\n",
       "    <tr>\n",
       "      <th>2</th>\n",
       "      <td>8.0</td>\n",
       "      <td>303.0</td>\n",
       "      <td>5.280528</td>\n",
       "      <td>267.3</td>\n",
       "      <td>630.379926</td>\n",
       "      <td>52.081339</td>\n",
       "      <td>35.269920</td>\n",
       "    </tr>\n",
       "    <tr>\n",
       "      <th>3</th>\n",
       "      <td>8.0</td>\n",
       "      <td>330.0</td>\n",
       "      <td>5.000000</td>\n",
       "      <td>267.3</td>\n",
       "      <td>630.379926</td>\n",
       "      <td>52.081339</td>\n",
       "      <td>35.269920</td>\n",
       "    </tr>\n",
       "    <tr>\n",
       "      <th>4</th>\n",
       "      <td>5.0</td>\n",
       "      <td>750.0</td>\n",
       "      <td>3.066667</td>\n",
       "      <td>267.3</td>\n",
       "      <td>630.379926</td>\n",
       "      <td>52.081339</td>\n",
       "      <td>35.269920</td>\n",
       "    </tr>\n",
       "    <tr>\n",
       "      <th>...</th>\n",
       "      <td>...</td>\n",
       "      <td>...</td>\n",
       "      <td>...</td>\n",
       "      <td>...</td>\n",
       "      <td>...</td>\n",
       "      <td>...</td>\n",
       "      <td>...</td>\n",
       "    </tr>\n",
       "    <tr>\n",
       "      <th>41364</th>\n",
       "      <td>15.0</td>\n",
       "      <td>205.0</td>\n",
       "      <td>260.975610</td>\n",
       "      <td>401.7</td>\n",
       "      <td>40331.325301</td>\n",
       "      <td>0.149229</td>\n",
       "      <td>0.149229</td>\n",
       "    </tr>\n",
       "    <tr>\n",
       "      <th>41365</th>\n",
       "      <td>4.0</td>\n",
       "      <td>29.0</td>\n",
       "      <td>96.206897</td>\n",
       "      <td>401.7</td>\n",
       "      <td>40331.325301</td>\n",
       "      <td>0.149229</td>\n",
       "      <td>0.149229</td>\n",
       "    </tr>\n",
       "    <tr>\n",
       "      <th>41366</th>\n",
       "      <td>1.0</td>\n",
       "      <td>60.0</td>\n",
       "      <td>288.333333</td>\n",
       "      <td>401.7</td>\n",
       "      <td>40331.325301</td>\n",
       "      <td>0.141989</td>\n",
       "      <td>0.141989</td>\n",
       "    </tr>\n",
       "    <tr>\n",
       "      <th>41367</th>\n",
       "      <td>23.0</td>\n",
       "      <td>188.0</td>\n",
       "      <td>255.319149</td>\n",
       "      <td>401.7</td>\n",
       "      <td>40331.325301</td>\n",
       "      <td>0.141989</td>\n",
       "      <td>0.141989</td>\n",
       "    </tr>\n",
       "    <tr>\n",
       "      <th>41368</th>\n",
       "      <td>5.0</td>\n",
       "      <td>120.0</td>\n",
       "      <td>108.333333</td>\n",
       "      <td>401.7</td>\n",
       "      <td>40331.325301</td>\n",
       "      <td>0.141989</td>\n",
       "      <td>0.141989</td>\n",
       "    </tr>\n",
       "  </tbody>\n",
       "</table>\n",
       "<p>39747 rows × 7 columns</p>\n",
       "</div>"
      ],
      "text/plain": [
       "       Road_width (m)  Area (m2)  Price (Millions vnd/m2)  \\\n",
       "0                 5.0       32.0               562.500000   \n",
       "1                 5.0      727.0                 3.163686   \n",
       "2                 8.0      303.0                 5.280528   \n",
       "3                 8.0      330.0                 5.000000   \n",
       "4                 5.0      750.0                 3.066667   \n",
       "...               ...        ...                      ...   \n",
       "41364            15.0      205.0               260.975610   \n",
       "41365             4.0       29.0                96.206897   \n",
       "41366             1.0       60.0               288.333333   \n",
       "41367            23.0      188.0               255.319149   \n",
       "41368             5.0      120.0               108.333333   \n",
       "\n",
       "       District Population (Thousands)  District Density (people/km2)  \\\n",
       "0                                267.3                     630.379926   \n",
       "1                                267.3                     630.379926   \n",
       "2                                267.3                     630.379926   \n",
       "3                                267.3                     630.379926   \n",
       "4                                267.3                     630.379926   \n",
       "...                                ...                            ...   \n",
       "41364                            401.7                   40331.325301   \n",
       "41365                            401.7                   40331.325301   \n",
       "41366                            401.7                   40331.325301   \n",
       "41367                            401.7                   40331.325301   \n",
       "41368                            401.7                   40331.325301   \n",
       "\n",
       "       Distance from center(km)  Distance from nearest road (km)  \n",
       "0                     51.485192                        37.693041  \n",
       "1                     52.081339                        35.269920  \n",
       "2                     52.081339                        35.269920  \n",
       "3                     52.081339                        35.269920  \n",
       "4                     52.081339                        35.269920  \n",
       "...                         ...                              ...  \n",
       "41364                  0.149229                         0.149229  \n",
       "41365                  0.149229                         0.149229  \n",
       "41366                  0.141989                         0.141989  \n",
       "41367                  0.141989                         0.141989  \n",
       "41368                  0.141989                         0.141989  \n",
       "\n",
       "[39747 rows x 7 columns]"
      ]
     },
     "execution_count": 13,
     "metadata": {},
     "output_type": "execute_result"
    }
   ],
   "source": [
    "predict_df = df[['Road_width (m)', 'Area (m2)', 'Price (Millions vnd/m2)', \n",
    "                 'District Population (Thousands)','District Density (people/km2)', \n",
    "                 'Distance from center(km)', 'Distance from nearest road (km)']]\n",
    "predict_df.dropna(axis=0,inplace=True)\n",
    "predict_df"
   ]
  },
  {
   "cell_type": "markdown",
   "metadata": {},
   "source": [
    "### 3. Linear regression model:\n",
    "* Train test split"
   ]
  },
  {
   "cell_type": "code",
   "execution_count": 15,
   "metadata": {},
   "outputs": [
    {
     "data": {
      "text/html": [
       "<div>\n",
       "<style scoped>\n",
       "    .dataframe tbody tr th:only-of-type {\n",
       "        vertical-align: middle;\n",
       "    }\n",
       "\n",
       "    .dataframe tbody tr th {\n",
       "        vertical-align: top;\n",
       "    }\n",
       "\n",
       "    .dataframe thead th {\n",
       "        text-align: right;\n",
       "    }\n",
       "</style>\n",
       "<table border=\"1\" class=\"dataframe\">\n",
       "  <thead>\n",
       "    <tr style=\"text-align: right;\">\n",
       "      <th></th>\n",
       "      <th>Road_width (m)</th>\n",
       "      <th>Area (m2)</th>\n",
       "      <th>District Population (Thousands)</th>\n",
       "      <th>District Density (people/km2)</th>\n",
       "      <th>Distance from center(km)</th>\n",
       "      <th>Distance from nearest road (km)</th>\n",
       "    </tr>\n",
       "  </thead>\n",
       "  <tbody>\n",
       "    <tr>\n",
       "      <th>18721</th>\n",
       "      <td>12.0</td>\n",
       "      <td>80.0</td>\n",
       "      <td>232.9</td>\n",
       "      <td>7217.229625</td>\n",
       "      <td>10.739380</td>\n",
       "      <td>1.428248</td>\n",
       "    </tr>\n",
       "    <tr>\n",
       "      <th>4770</th>\n",
       "      <td>6.0</td>\n",
       "      <td>100.0</td>\n",
       "      <td>374.9</td>\n",
       "      <td>2058.306797</td>\n",
       "      <td>15.754942</td>\n",
       "      <td>6.927747</td>\n",
       "    </tr>\n",
       "    <tr>\n",
       "      <th>4029</th>\n",
       "      <td>15.0</td>\n",
       "      <td>83.0</td>\n",
       "      <td>253.8</td>\n",
       "      <td>2212.150266</td>\n",
       "      <td>13.243602</td>\n",
       "      <td>8.354487</td>\n",
       "    </tr>\n",
       "    <tr>\n",
       "      <th>10589</th>\n",
       "      <td>1.0</td>\n",
       "      <td>42.0</td>\n",
       "      <td>284.5</td>\n",
       "      <td>5885.395118</td>\n",
       "      <td>6.782892</td>\n",
       "      <td>3.378849</td>\n",
       "    </tr>\n",
       "    <tr>\n",
       "      <th>25413</th>\n",
       "      <td>10.0</td>\n",
       "      <td>78.0</td>\n",
       "      <td>210.6</td>\n",
       "      <td>1477.791032</td>\n",
       "      <td>20.593393</td>\n",
       "      <td>11.339463</td>\n",
       "    </tr>\n",
       "    <tr>\n",
       "      <th>...</th>\n",
       "      <td>...</td>\n",
       "      <td>...</td>\n",
       "      <td>...</td>\n",
       "      <td>...</td>\n",
       "      <td>...</td>\n",
       "      <td>...</td>\n",
       "    </tr>\n",
       "    <tr>\n",
       "      <th>21860</th>\n",
       "      <td>35.0</td>\n",
       "      <td>100.0</td>\n",
       "      <td>284.5</td>\n",
       "      <td>5885.395118</td>\n",
       "      <td>7.829783</td>\n",
       "      <td>1.148987</td>\n",
       "    </tr>\n",
       "    <tr>\n",
       "      <th>24037</th>\n",
       "      <td>8.0</td>\n",
       "      <td>219.0</td>\n",
       "      <td>194.1</td>\n",
       "      <td>1051.519584</td>\n",
       "      <td>29.862209</td>\n",
       "      <td>12.345970</td>\n",
       "    </tr>\n",
       "    <tr>\n",
       "      <th>26353</th>\n",
       "      <td>6.0</td>\n",
       "      <td>100.0</td>\n",
       "      <td>210.6</td>\n",
       "      <td>1477.791032</td>\n",
       "      <td>16.448551</td>\n",
       "      <td>7.325089</td>\n",
       "    </tr>\n",
       "    <tr>\n",
       "      <th>33277</th>\n",
       "      <td>4.0</td>\n",
       "      <td>50.0</td>\n",
       "      <td>270.3</td>\n",
       "      <td>4510.261972</td>\n",
       "      <td>8.291890</td>\n",
       "      <td>3.831331</td>\n",
       "    </tr>\n",
       "    <tr>\n",
       "      <th>31063</th>\n",
       "      <td>5.0</td>\n",
       "      <td>52.0</td>\n",
       "      <td>374.9</td>\n",
       "      <td>2058.306797</td>\n",
       "      <td>9.913222</td>\n",
       "      <td>2.002620</td>\n",
       "    </tr>\n",
       "  </tbody>\n",
       "</table>\n",
       "<p>29810 rows × 6 columns</p>\n",
       "</div>"
      ],
      "text/plain": [
       "       Road_width (m)  Area (m2)  District Population (Thousands)  \\\n",
       "18721            12.0       80.0                            232.9   \n",
       "4770              6.0      100.0                            374.9   \n",
       "4029             15.0       83.0                            253.8   \n",
       "10589             1.0       42.0                            284.5   \n",
       "25413            10.0       78.0                            210.6   \n",
       "...               ...        ...                              ...   \n",
       "21860            35.0      100.0                            284.5   \n",
       "24037             8.0      219.0                            194.1   \n",
       "26353             6.0      100.0                            210.6   \n",
       "33277             4.0       50.0                            270.3   \n",
       "31063             5.0       52.0                            374.9   \n",
       "\n",
       "       District Density (people/km2)  Distance from center(km)  \\\n",
       "18721                    7217.229625                 10.739380   \n",
       "4770                     2058.306797                 15.754942   \n",
       "4029                     2212.150266                 13.243602   \n",
       "10589                    5885.395118                  6.782892   \n",
       "25413                    1477.791032                 20.593393   \n",
       "...                              ...                       ...   \n",
       "21860                    5885.395118                  7.829783   \n",
       "24037                    1051.519584                 29.862209   \n",
       "26353                    1477.791032                 16.448551   \n",
       "33277                    4510.261972                  8.291890   \n",
       "31063                    2058.306797                  9.913222   \n",
       "\n",
       "       Distance from nearest road (km)  \n",
       "18721                         1.428248  \n",
       "4770                          6.927747  \n",
       "4029                          8.354487  \n",
       "10589                         3.378849  \n",
       "25413                        11.339463  \n",
       "...                                ...  \n",
       "21860                         1.148987  \n",
       "24037                        12.345970  \n",
       "26353                         7.325089  \n",
       "33277                         3.831331  \n",
       "31063                         2.002620  \n",
       "\n",
       "[29810 rows x 6 columns]"
      ]
     },
     "execution_count": 15,
     "metadata": {},
     "output_type": "execute_result"
    }
   ],
   "source": [
    "# Split data\n",
    "\n",
    "from sklearn.model_selection import train_test_split\n",
    "\n",
    "x = predict_df.loc[:, predict_df.columns != 'Price (Millions vnd/m2)']\n",
    "y = predict_df['Price (Millions vnd/m2)'].to_numpy()\n",
    "\n",
    "X_train, X_test, y_train, y_test = train_test_split(x, y, test_size=0.25, random_state=22)\n",
    "X_train"
   ]
  },
  {
   "cell_type": "markdown",
   "metadata": {},
   "source": [
    "* Modeling"
   ]
  },
  {
   "cell_type": "code",
   "execution_count": 16,
   "metadata": {},
   "outputs": [],
   "source": [
    "# Training data\n",
    "\n",
    "from sklearn.linear_model import LinearRegression\n",
    "\n",
    "lr = LinearRegression()\n",
    "model = lr.fit(X_train, y_train)"
   ]
  },
  {
   "cell_type": "code",
   "execution_count": 17,
   "metadata": {},
   "outputs": [
    {
     "data": {
      "text/plain": [
       "array([104.13932584,  96.296692  ,  61.51944634, ..., 352.46354725,\n",
       "        30.84723181,  61.74678559])"
      ]
     },
     "execution_count": 17,
     "metadata": {},
     "output_type": "execute_result"
    }
   ],
   "source": [
    "# Predict from model \n",
    "\n",
    "results = lr.predict(X_test)\n",
    "results"
   ]
  },
  {
   "cell_type": "code",
   "execution_count": 18,
   "metadata": {},
   "outputs": [
    {
     "data": {
      "text/plain": [
       "0.24827871049034267"
      ]
     },
     "execution_count": 18,
     "metadata": {},
     "output_type": "execute_result"
    }
   ],
   "source": [
    "# Score\n",
    "\n",
    "from sklearn.metrics import r2_score\n",
    "\n",
    "r2_score(list(y_test), list(results))"
   ]
  },
  {
   "cell_type": "code",
   "execution_count": 23,
   "metadata": {},
   "outputs": [
    {
     "data": {
      "text/plain": [
       "172.09344190040724"
      ]
     },
     "execution_count": 23,
     "metadata": {},
     "output_type": "execute_result"
    }
   ],
   "source": [
    "# intercept\n",
    "\n",
    "lr.intercept_"
   ]
  },
  {
   "cell_type": "code",
   "execution_count": 19,
   "metadata": {},
   "outputs": [
    {
     "data": {
      "text/html": [
       "<div>\n",
       "<style scoped>\n",
       "    .dataframe tbody tr th:only-of-type {\n",
       "        vertical-align: middle;\n",
       "    }\n",
       "\n",
       "    .dataframe tbody tr th {\n",
       "        vertical-align: top;\n",
       "    }\n",
       "\n",
       "    .dataframe thead th {\n",
       "        text-align: right;\n",
       "    }\n",
       "</style>\n",
       "<table border=\"1\" class=\"dataframe\">\n",
       "  <thead>\n",
       "    <tr style=\"text-align: right;\">\n",
       "      <th></th>\n",
       "      <th>predicted</th>\n",
       "      <th>actual</th>\n",
       "      <th>residual</th>\n",
       "      <th>abs_residual</th>\n",
       "    </tr>\n",
       "  </thead>\n",
       "  <tbody>\n",
       "    <tr>\n",
       "      <th>0</th>\n",
       "      <td>104.139326</td>\n",
       "      <td>116.000000</td>\n",
       "      <td>-11.860674</td>\n",
       "      <td>11.860674</td>\n",
       "    </tr>\n",
       "    <tr>\n",
       "      <th>1</th>\n",
       "      <td>96.296692</td>\n",
       "      <td>94.444444</td>\n",
       "      <td>1.852248</td>\n",
       "      <td>1.852248</td>\n",
       "    </tr>\n",
       "    <tr>\n",
       "      <th>2</th>\n",
       "      <td>61.519446</td>\n",
       "      <td>70.000000</td>\n",
       "      <td>-8.480554</td>\n",
       "      <td>8.480554</td>\n",
       "    </tr>\n",
       "    <tr>\n",
       "      <th>3</th>\n",
       "      <td>197.694074</td>\n",
       "      <td>268.181818</td>\n",
       "      <td>-70.487745</td>\n",
       "      <td>70.487745</td>\n",
       "    </tr>\n",
       "    <tr>\n",
       "      <th>4</th>\n",
       "      <td>106.954700</td>\n",
       "      <td>57.407407</td>\n",
       "      <td>49.547292</td>\n",
       "      <td>49.547292</td>\n",
       "    </tr>\n",
       "    <tr>\n",
       "      <th>...</th>\n",
       "      <td>...</td>\n",
       "      <td>...</td>\n",
       "      <td>...</td>\n",
       "      <td>...</td>\n",
       "    </tr>\n",
       "    <tr>\n",
       "      <th>9932</th>\n",
       "      <td>70.209269</td>\n",
       "      <td>56.410256</td>\n",
       "      <td>13.799013</td>\n",
       "      <td>13.799013</td>\n",
       "    </tr>\n",
       "    <tr>\n",
       "      <th>9933</th>\n",
       "      <td>112.118008</td>\n",
       "      <td>151.111111</td>\n",
       "      <td>-38.993104</td>\n",
       "      <td>38.993104</td>\n",
       "    </tr>\n",
       "    <tr>\n",
       "      <th>9934</th>\n",
       "      <td>352.463547</td>\n",
       "      <td>488.000000</td>\n",
       "      <td>-135.536453</td>\n",
       "      <td>135.536453</td>\n",
       "    </tr>\n",
       "    <tr>\n",
       "      <th>9935</th>\n",
       "      <td>30.847232</td>\n",
       "      <td>30.000000</td>\n",
       "      <td>0.847232</td>\n",
       "      <td>0.847232</td>\n",
       "    </tr>\n",
       "    <tr>\n",
       "      <th>9936</th>\n",
       "      <td>61.746786</td>\n",
       "      <td>78.571429</td>\n",
       "      <td>-16.824643</td>\n",
       "      <td>16.824643</td>\n",
       "    </tr>\n",
       "  </tbody>\n",
       "</table>\n",
       "<p>9937 rows × 4 columns</p>\n",
       "</div>"
      ],
      "text/plain": [
       "       predicted      actual    residual  abs_residual\n",
       "0     104.139326  116.000000  -11.860674     11.860674\n",
       "1      96.296692   94.444444    1.852248      1.852248\n",
       "2      61.519446   70.000000   -8.480554      8.480554\n",
       "3     197.694074  268.181818  -70.487745     70.487745\n",
       "4     106.954700   57.407407   49.547292     49.547292\n",
       "...          ...         ...         ...           ...\n",
       "9932   70.209269   56.410256   13.799013     13.799013\n",
       "9933  112.118008  151.111111  -38.993104     38.993104\n",
       "9934  352.463547  488.000000 -135.536453    135.536453\n",
       "9935   30.847232   30.000000    0.847232      0.847232\n",
       "9936   61.746786   78.571429  -16.824643     16.824643\n",
       "\n",
       "[9937 rows x 4 columns]"
      ]
     },
     "execution_count": 19,
     "metadata": {},
     "output_type": "execute_result"
    }
   ],
   "source": [
    "# Residuals\n",
    "\n",
    "df_residuals = pd.DataFrame()\n",
    "df_residuals['predicted'] = results\n",
    "df_residuals['actual'] = y_test\n",
    "df_residuals['residual'] = df_residuals['predicted'] - df_residuals['actual']\n",
    "df_residuals['abs_residual'] = abs(df_residuals['residual'])\n",
    "df_residuals"
   ]
  },
  {
   "cell_type": "markdown",
   "metadata": {},
   "source": [
    "### 5, PLotting & result:"
   ]
  },
  {
   "cell_type": "code",
   "execution_count": 20,
   "metadata": {},
   "outputs": [],
   "source": [
    "# Coefficients of each value\n",
    "\n",
    "df_coef = pd.DataFrame()\n",
    "df_coef['variable'] = x.columns\n",
    "df_coef['coefficient'] = lr.coef_\n",
    "df_coef.sort_values(by=[\"coefficient\"],inplace=True)"
   ]
  },
  {
   "cell_type": "code",
   "execution_count": 21,
   "metadata": {},
   "outputs": [
    {
     "data": {
      "text/plain": [
       "array([[<AxesSubplot:title={'center':'residual'}>]], dtype=object)"
      ]
     },
     "execution_count": 21,
     "metadata": {},
     "output_type": "execute_result"
    },
    {
     "data": {
      "image/png": "[encoded data removed]",
      "text/plain": [
       "<Figure size 432x288 with 1 Axes>"
      ]
     },
     "metadata": {
      "needs_background": "light"
     },
     "output_type": "display_data"
    }
   ],
   "source": [
    "# Histogram of \"residual\" column\n",
    "\n",
    "df_residuals.hist(column='residual')"
   ]
  },
  {
   "cell_type": "code",
   "execution_count": 22,
   "metadata": {},
   "outputs": [
    {
     "data": {
      "text/plain": [
       "<AxesSubplot:xlabel='predicted', ylabel='actual'>"
      ]
     },
     "execution_count": 22,
     "metadata": {},
     "output_type": "execute_result"
    },
    {
     "data": {
      "image/png": "[encoded data removed]",
      "text/plain": [
       "<Figure size 432x288 with 1 Axes>"
      ]
     },
     "metadata": {
      "needs_background": "light"
     },
     "output_type": "display_data"
    }
   ],
   "source": [
    "# Scatter plot of predicted and actual value\n",
    "\n",
    "df_residuals.plot.scatter(x='predicted', y='actual')"
   ]
  }
 ],
 "metadata": {
  "kernelspec": {
   "display_name": "base",
   "language": "python",
   "name": "python3"
  },
  "language_info": {
   "codemirror_mode": {
    "name": "ipython",
    "version": 3
   },
   "file_extension": ".py",
   "mimetype": "text/x-python",
   "name": "python",
   "nbconvert_exporter": "python",
   "pygments_lexer": "ipython3",
   "version": "3.8.8"
  }
 },
 "nbformat": 4,
 "nbformat_minor": 2
}
